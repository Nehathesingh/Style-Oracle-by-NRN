{
 "cells": [
  {
   "cell_type": "code",
   "execution_count": 11,
   "id": "c37d93f9-c19e-449d-b2ee-f203c3568cd3",
   "metadata": {},
   "outputs": [],
   "source": [
    "#Selenium imports here\n",
    "from selenium import webdriver\n",
    "from selenium.webdriver.common.keys import Keys\n",
    "from selenium.webdriver.support import expected_conditions as EC\n",
    "from selenium.webdriver.common.by import By\n",
    "from selenium.webdriver.support.wait import WebDriverWait\n",
    "from selenium.webdriver.chrome.service import Service"
   ]
  },
  {
   "cell_type": "code",
   "execution_count": 12,
   "id": "da3dc1da-4f95-45e2-81c9-952e613dbabe",
   "metadata": {},
   "outputs": [],
   "source": [
    "import os\n",
    "import wget"
   ]
  },
  {
   "cell_type": "code",
   "execution_count": 13,
   "id": "9c4fb507-029a-469a-98b2-9dcc6ee12d41",
   "metadata": {},
   "outputs": [],
   "source": [
    "service = Service('C:/Users/gotor/Downloads/chromedriver-win64/chromedriver.exe')\n",
    "\n",
    "# Initialize the WebDriver\n",
    "driver = webdriver.Chrome(service=service)\n",
    "\n",
    "# Open the webpage\n",
    "driver.get(\"http://www.instagram.com\")"
   ]
  },
  {
   "cell_type": "code",
   "execution_count": 14,
   "id": "ad658b3e-3780-4501-b044-fde320ad5169",
   "metadata": {},
   "outputs": [],
   "source": [
    "username = WebDriverWait(driver, 10).until(EC.element_to_be_clickable((By.CSS_SELECTOR, \"input[name='username']\")))\n",
    "password = WebDriverWait(driver, 10).until(EC.element_to_be_clickable((By.CSS_SELECTOR, \"input[name='password']\")))\n",
    "\n",
    "#enter username and password\n",
    "username.clear()\n",
    "username.send_keys(\"style.oracle_rnn\")\n",
    "password.clear()\n",
    "password.send_keys(\"NNR2024\")\n",
    "\n",
    "#target the login button and click it\n",
    "button = WebDriverWait(driver, 2).until(EC.element_to_be_clickable((By.CSS_SELECTOR, \"button[type='submit']\"))).click()\n"
   ]
  },
  {
   "cell_type": "code",
   "execution_count": 15,
   "id": "bdfe23fc-efb4-4fcf-ab13-94597192cee2",
   "metadata": {},
   "outputs": [],
   "source": [
    "    not_now_button = WebDriverWait(driver, 20).until(\n",
    "        EC.element_to_be_clickable((By.CSS_SELECTOR, 'button'))\n",
    "    )\n",
    "    not_now_button.click()\n",
    "not_now2 = WebDriverWait(driver, 10).until(EC.element_to_be_clickable((By.XPATH, '//button[contains(text(), \"Not Now\")]'))).click()"
   ]
  },
  {
   "cell_type": "code",
   "execution_count": 31,
   "id": "3b3e9dae-f609-4eaf-a3fd-b20c51c4b4af",
   "metadata": {},
   "outputs": [],
   "source": [
    "\n",
    "#target the search input field\n",
    "searchbox = WebDriverWait(driver, 10).until(EC.element_to_be_clickable((By.XPATH, \"//input[@placeholder='Search']\")))\n",
    "searchbox.clear()\n",
    "\n",
    "#search for the hashtag cat\n",
    "keyword = \"Women\"\n",
    "searchbox.send_keys(keyword)"
   ]
  },
  {
   "cell_type": "code",
   "execution_count": 96,
   "id": "e18dd541-543e-4249-acc8-c810d58542f2",
   "metadata": {},
   "outputs": [],
   "source": [
    "hashtag_link = WebDriverWait(driver, 10).until(EC.element_to_be_clickable((By.XPATH, \"//a[contains(@href, '/tags/clothing/')]\")))\n",
    "hashtag_link.click()"
   ]
  },
  {
   "cell_type": "code",
   "execution_count": 40,
   "id": "6a2db2df-4fdb-4166-8322-36fdf9691d4a",
   "metadata": {},
   "outputs": [
    {
     "name": "stdout",
     "output_type": "stream",
     "text": [
      "Number of scraped images:  23\n"
     ]
    }
   ],
   "source": [
    "#scroll down to scrape more images\n",
    "driver.execute_script(\"window.scrollTo(0, 10000);\")\n",
    "\n",
    "#target all images on the page\n",
    "images = driver.find_elements(By.TAG_NAME, 'img')\n",
    "image_urls = [image.get_attribute('src') for image in images]\n",
    "\n",
    "# Filter out empty src attributes\n",
    "image_urls = [url for url in image_urls if url]\n",
    "\n",
    "print('Number of scraped images: ', len(image_urls))"
   ]
  },
  {
   "cell_type": "code",
   "execution_count": 33,
   "id": "9e7f0b94-5f38-4d90-8916-95b0a75b3ba8",
   "metadata": {},
   "outputs": [
    {
     "data": {
      "text/plain": [
       "'C:\\\\Users\\\\gotor\\\\OneDrive\\\\Attachments 1\\\\Desktop\\\\Myntra\\\\omens'"
      ]
     },
     "execution_count": 33,
     "metadata": {},
     "output_type": "execute_result"
    }
   ],
   "source": [
    "import os\n",
    "import wget\n",
    "\n",
    "path = os.getcwd()\n",
    "path = os.path.join(path, keyword[1:] + \"s\")\n",
    "\n",
    "#create the directory\n",
    "os.mkdir(path)\n",
    "\n",
    "path"
   ]
  },
  {
   "cell_type": "code",
   "execution_count": 41,
   "id": "9a00f716-ac67-4f0f-982d-3ff984898725",
   "metadata": {},
   "outputs": [
    {
     "name": "stdout",
     "output_type": "stream",
     "text": [
      "100% [................................................................................] 5006 / 5006Downloaded https://www.vogue.in/verso/static/vogue/assets/in/logo.svg to C:\\Users\\gotor\\OneDrive\\Attachments 1\\Desktop\\Myntra\\omens\\omen_0.jpg\n",
      "100% [................................................................................] 4927 / 4927Downloaded https://www.vogue.in/verso/static/vogue/assets/in/logo-header.svg to C:\\Users\\gotor\\OneDrive\\Attachments 1\\Desktop\\Myntra\\omens\\omen_1.jpg\n",
      "100% [............................................................................] 331886 / 331886Downloaded https://assets.vogue.in/photos/6694a700a60097bfbab06ac5/1:1/w_1600%2Ch_1200%2Cc_limit/The%2520most%2520unique%2520jewellery%2520from%2520Anant%2520Ambani%2520and%2520Radhika%2520Merchant's%2520wedding.jpg to C:\\Users\\gotor\\OneDrive\\Attachments 1\\Desktop\\Myntra\\omens\\omen_2.jpg\n",
      "100% [..........................................................................] 4295119 / 4295119Downloaded https://assets.vogue.in/photos/6690c4f69e3476983dba334e/1:1/w_1600%2Ch_1200%2Cc_limit/GettyImages-2158800111.jpg to C:\\Users\\gotor\\OneDrive\\Attachments 1\\Desktop\\Myntra\\omens\\omen_3.jpg\n",
      "100% [............................................................................] 255464 / 255464Downloaded https://assets.vogue.in/photos/668fd88d755f14eee24cef26/1:1/w_1600%2Ch_1200%2Cc_limit/Snapinsta.app_450791479_1650534049033505_8341492456118102219_n_1080.jpg to C:\\Users\\gotor\\OneDrive\\Attachments 1\\Desktop\\Myntra\\omens\\omen_4.jpg\n",
      "100% [............................................................................] 197805 / 197805Downloaded https://assets.vogue.in/photos/66937f37acde914fd6738127/1:1/w_1600%2Ch_1200%2Cc_limit/IMG_2465.JPG to C:\\Users\\gotor\\OneDrive\\Attachments 1\\Desktop\\Myntra\\omens\\omen_5.jpg\n",
      "100% [............................................................................] 773640 / 773640Downloaded https://assets.vogue.in/photos/66927cd35fae5bc20574e9d2/1:1/w_1600%2Ch_1200%2Cc_limit/GettyImages-1242899867.jpg to C:\\Users\\gotor\\OneDrive\\Attachments 1\\Desktop\\Myntra\\omens\\omen_6.jpg\n",
      "100% [............................................................................] 298600 / 298600Downloaded https://assets.vogue.in/photos/6691053adb19ddf4f54934a5/1:1/w_1600%2Ch_1200%2Cc_limit/Snapinsta.app_450527260_18453711514010901_8831049722710447104_n_1080.jpg to C:\\Users\\gotor\\OneDrive\\Attachments 1\\Desktop\\Myntra\\omens\\omen_7.jpg\n",
      "100% [............................................................................] 268244 / 268244Downloaded https://assets.vogue.in/photos/668f98069e3476983dba330f/1:1/w_1600%2Ch_1200%2Cc_limit/Snapinsta.app_450507042_18443341534006330_5958794609309044978_n_1080.jpg to C:\\Users\\gotor\\OneDrive\\Attachments 1\\Desktop\\Myntra\\omens\\omen_8.jpg\n",
      "100% [..............................................................................] 95391 / 95391Downloaded https://assets.vogue.in/photos/668fd450a870a05ffbb7b873/1:1/w_1600%2Ch_1200%2Cc_limit/Snapinsta.app_450384823_1000538404669578_6845189177205902667_n_1080.jpg to C:\\Users\\gotor\\OneDrive\\Attachments 1\\Desktop\\Myntra\\omens\\omen_9.jpg\n",
      "100% [............................................................................] 219831 / 219831Downloaded https://assets.vogue.in/photos/668f82823da3aa7161e5add1/1:1/w_1600%2Ch_1200%2Cc_limit/Snapinsta.app_450258131_17944086029828482_5692595483469394195_n_1080.jpg to C:\\Users\\gotor\\OneDrive\\Attachments 1\\Desktop\\Myntra\\omens\\omen_10.jpg\n",
      "100% [............................................................................] 675721 / 675721Downloaded https://assets.vogue.in/photos/668cc568d6b029e6fcdf77f6/1:1/w_1600%2Ch_1200%2Cc_limit/jeans-con-blazer-negro.jpg to C:\\Users\\gotor\\OneDrive\\Attachments 1\\Desktop\\Myntra\\omens\\omen_11.jpg\n",
      "100% [..........................................................................] 1414591 / 1414591Downloaded https://assets.vogue.in/photos/668b7077a8671ea829cc747a/1:1/w_1600%2Ch_1200%2Cc_limit/2159323532 to C:\\Users\\gotor\\OneDrive\\Attachments 1\\Desktop\\Myntra\\omens\\omen_12.jpg\n",
      "100% [............................................................................] 215992 / 215992Downloaded https://assets.vogue.in/photos/668adc1ddd7910a09128f615/1:1/w_1600%2Ch_1200%2Cc_limit/Snapinsta.app_450008382_18453107071010901_3085421741294515434_n_1080.jpg to C:\\Users\\gotor\\OneDrive\\Attachments 1\\Desktop\\Myntra\\omens\\omen_13.jpg\n",
      "100% [............................................................................] 223766 / 223766Downloaded https://assets.vogue.in/photos/6687ca8c07fa2f165033642c/1:1/w_1600%2Ch_1200%2Cc_limit/Snapinsta.app_449793062_1011504777149471_1735405110928101156_n_1080.jpg to C:\\Users\\gotor\\OneDrive\\Attachments 1\\Desktop\\Myntra\\omens\\omen_14.jpg\n",
      "100% [............................................................................] 283575 / 283575Downloaded https://assets.vogue.in/photos/6687aa97b9d5e6b840283967/1:1/w_1600%2Ch_1200%2Cc_limit/Snapinsta.app_449798386_508883851492576_3468012817914726617_n_1080.jpg to C:\\Users\\gotor\\OneDrive\\Attachments 1\\Desktop\\Myntra\\omens\\omen_15.jpg\n",
      "100% [............................................................................] 783125 / 783125Downloaded https://assets.vogue.in/photos/66877b8507fa2f1650336418/1:1/w_1600%2Ch_1200%2Cc_limit/Blusa-mezclilla-baggy-jeans-street-style-2024.jpg to C:\\Users\\gotor\\OneDrive\\Attachments 1\\Desktop\\Myntra\\omens\\omen_16.jpg\n",
      "100% [............................................................................] 445285 / 445285Downloaded https://assets.vogue.in/photos/6687de3855ba6b79c5388a12/1:1/w_1600%2Ch_1200%2Cc_limit/Snapinsta.app_449694819_758792959517194_6790037411104001577_n_1080.jpg to C:\\Users\\gotor\\OneDrive\\Attachments 1\\Desktop\\Myntra\\omens\\omen_17.jpg\n",
      "100% [............................................................................] 170259 / 170259Downloaded https://assets.vogue.in/photos/6683b66602ed9c644054f87f/1:1/w_1600%2Ch_1200%2Cc_limit/For%2520Bhumi%2520Pednekar%2C%2520holiday%2520fashion%2520is%2520all%2520about%2520layering%2520accessories.jpg to C:\\Users\\gotor\\OneDrive\\Attachments 1\\Desktop\\Myntra\\omens\\omen_18.jpg\n",
      "100% [..........................................................................] 1131621 / 1131621Downloaded https://assets.vogue.in/photos/66877bff77293b6578ad594f/1:1/w_1600%2Ch_1200%2Cc_limit/GettyImages-2149456187.jpg to C:\\Users\\gotor\\OneDrive\\Attachments 1\\Desktop\\Myntra\\omens\\omen_19.jpg\n",
      "100% [............................................................................] 175957 / 175957Downloaded https://assets.vogue.in/photos/6683a65e12727e7bb62a38a6/1:1/w_1600%2Ch_1200%2Cc_limit/Snapinsta.app_449697851_18450861805064508_7011547386477301989_n_1024.jpg to C:\\Users\\gotor\\OneDrive\\Attachments 1\\Desktop\\Myntra\\omens\\omen_20.jpg\n",
      "100% [............................................................................] 172128 / 172128Downloaded https://assets.vogue.in/photos/6684fcd8dc4c31c141e77197/1:1/w_1600%2Ch_1200%2Cc_limit/Snapinsta.app_449538188_1007057644291828_604703192806618508_n_1024.jpg to C:\\Users\\gotor\\OneDrive\\Attachments 1\\Desktop\\Myntra\\omens\\omen_21.jpg\n",
      "100% [................................................................................] 2420 / 2420Downloaded https://www.vogue.in/verso/static/vogue/assets/logo-reverse.svg to C:\\Users\\gotor\\OneDrive\\Attachments 1\\Desktop\\Myntra\\omens\\omen_22.jpg\n"
     ]
    }
   ],
   "source": [
    "for index, image_url in enumerate(image_urls):\n",
    "    try:\n",
    "        # Generate unique filename based on index\n",
    "        save_as = os.path.join(path, f\"{keyword[1:]}_{index}.jpg\")\n",
    "        wget.download(image_url, save_as)\n",
    "        print(f\"Downloaded {image_url} to {save_as}\")\n",
    "    except Exception as e:\n",
    "        print(f\"Failed to download {image_url}: {e}\")"
   ]
  }
 ],
 "metadata": {
  "kernelspec": {
   "display_name": "Python 3 (ipykernel)",
   "language": "python",
   "name": "python3"
  },
  "language_info": {
   "codemirror_mode": {
    "name": "ipython",
    "version": 3
   },
   "file_extension": ".py",
   "mimetype": "text/x-python",
   "name": "python",
   "nbconvert_exporter": "python",
   "pygments_lexer": "ipython3",
   "version": "3.11.3"
  }
 },
 "nbformat": 4,
 "nbformat_minor": 5
}
