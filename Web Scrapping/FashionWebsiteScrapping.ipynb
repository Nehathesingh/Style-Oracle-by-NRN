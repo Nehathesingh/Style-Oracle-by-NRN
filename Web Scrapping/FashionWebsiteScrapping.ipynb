{
 "cells": [
  {
   "cell_type": "code",
   "execution_count": null,
   "id": "3c3e5b93-2daf-43e0-bb2e-8e6803612d56",
   "metadata": {},
   "outputs": [],
   "source": [
    "#Selenium imports here\n",
    "from selenium import webdriver\n",
    "from selenium.webdriver.common.keys import Keys\n",
    "from selenium.webdriver.support import expected_conditions as EC\n",
    "from selenium.webdriver.common.by import By\n",
    "from selenium.webdriver.support.wait import WebDriverWait\n",
    "from selenium.webdriver.chrome.service import Service"
   ]
  },
  {
   "cell_type": "code",
   "execution_count": null,
   "id": "773bf95b-d48a-4ea6-af9e-f090061df2eb",
   "metadata": {},
   "outputs": [],
   "source": [
    "service = Service('C:/Users/gotor/Downloads/chromedriver-win64/chromedriver.exe')\n",
    "\n",
    "# Initialize the WebDriver\n",
    "driver = webdriver.Chrome(service=service)\n",
    "\n",
    "# Open the webpage\n",
    "driver.get(\"https://www.vogue.in/fashion/fashion-trends\")"
   ]
  },
  {
   "cell_type": "code",
   "execution_count": null,
   "id": "4c2ed78d-eca3-47b9-982f-2a020f58fecb",
   "metadata": {},
   "outputs": [],
   "source": [
    "#scroll down to scrape more images\n",
    "driver.execute_script(\"window.scrollTo(0, 10000);\")\n",
    "\n",
    "#target all images on the page\n",
    "images = driver.find_elements(By.TAG_NAME, 'img')\n",
    "image_urls = [image.get_attribute('src') for image in images]\n",
    "\n",
    "# Filter out empty src attributes\n",
    "image_urls = [url for url in image_urls if url]\n",
    "\n",
    "print('Number of scraped images: ', len(image_urls))"
   ]
  },
  {
   "cell_type": "code",
   "execution_count": null,
   "id": "1c92cc73-3a77-42dc-a96f-c7425d09fb7d",
   "metadata": {},
   "outputs": [],
   "source": [
    "import os\n",
    "import wget\n",
    "\n",
    "path = os.getcwd()\n",
    "path = os.path.join(path, keyword[1:] + \"s\")\n",
    "\n",
    "#create the directory\n",
    "os.mkdir(path)\n",
    "\n",
    "path"
   ]
  },
  {
   "cell_type": "code",
   "execution_count": null,
   "id": "5e1251e0-ee35-4f6a-bba2-91e347e9ccef",
   "metadata": {},
   "outputs": [],
   "source": [
    "for index, image_url in enumerate(image_urls):\n",
    "    try:\n",
    "        # Generate unique filename based on index\n",
    "        save_as = os.path.join(path, f\"{keyword[1:]}_{index}.jpg\")\n",
    "        wget.download(image_url, save_as)\n",
    "        print(f\"Downloaded {image_url} to {save_as}\")\n",
    "    except Exception as e:\n",
    "        print(f\"Failed to download {image_url}: {e}\")"
   ]
  }
 ],
 "metadata": {
  "kernelspec": {
   "display_name": "Python 3 (ipykernel)",
   "language": "python",
   "name": "python3"
  },
  "language_info": {
   "codemirror_mode": {
    "name": "ipython",
    "version": 3
   },
   "file_extension": ".py",
   "mimetype": "text/x-python",
   "name": "python",
   "nbconvert_exporter": "python",
   "pygments_lexer": "ipython3",
   "version": "3.11.3"
  }
 },
 "nbformat": 4,
 "nbformat_minor": 5
}
